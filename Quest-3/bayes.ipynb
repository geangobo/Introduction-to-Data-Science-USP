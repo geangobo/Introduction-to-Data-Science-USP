{
 "cells": [
  {
   "cell_type": "markdown",
   "id": "ca22882e",
   "metadata": {},
   "source": [
    "## Introdução à Ciência de Dados - Universidade de São Paulo"
   ]
  },
  {
   "cell_type": "markdown",
   "id": "947ddd9f",
   "metadata": {},
   "source": [
    "# Questionário 3 - Teoria da Decisão Bayesiana"
   ]
  },
  {
   "cell_type": "markdown",
   "id": "62a77551",
   "metadata": {},
   "source": [
    "##### Prof. Francisco Rodrigues - Aluno: Gean Gobo da Cruz - N° USP: 13661979\n"
   ]
  },
  {
   "cell_type": "markdown",
   "id": "0b881972",
   "metadata": {},
   "source": [
    "### Pacotes"
   ]
  },
  {
   "cell_type": "code",
   "execution_count": 17,
   "id": "315e3543",
   "metadata": {},
   "outputs": [],
   "source": [
    "from sklearn.preprocessing import LabelEncoder # Usamos para o pré-processamento dos dados\n",
    "from sklearn.model_selection import train_test_split # Separar treino e teste\n",
    "from sklearn.preprocessing import StandardScaler # Ajustando a escala dos dados\n",
    "from sklearn.naive_bayes import GaussianNB # Modelo Naive Bayes\n",
    "from sklearn.metrics import accuracy_score, classification_report, ConfusionMatrixDisplay # Métricas de avaliação\n",
    "from sklearn.discriminant_analysis import QuadraticDiscriminantAnalysis # Modelo QDA\n",
    "from sklearn.neighbors import KernelDensity # Estimador de densidade\n",
    "import pandas as pd\n",
    "import seaborn as sns\n",
    "import matplotlib.pyplot as plt\n",
    "import numpy as np"
   ]
  },
  {
   "cell_type": "markdown",
   "id": "d1bfd2cf",
   "metadata": {},
   "source": [
    "### Datasets"
   ]
  },
  {
   "cell_type": "code",
   "execution_count": 28,
   "id": "0306f9a7",
   "metadata": {},
   "outputs": [],
   "source": [
    "df_vertebral = pd.read_csv('../data/vertebralcolumn-2C.csv')\n",
    "df_red = pd.read_csv('../data/winequality-red.csv')\n"
   ]
  },
  {
   "cell_type": "markdown",
   "id": "2d0e6992",
   "metadata": {},
   "source": [
    "### 1. Considerando a base de dados vertebralcolumn-2C.csv, encontre o melhorclassificador dentre os métodos classificador Bayesiano, classificador Bayesino não-paramétrico e Naive Bayes.\n"
   ]
  },
  {
   "cell_type": "code",
   "execution_count": 27,
   "id": "01e3aff4",
   "metadata": {},
   "outputs": [
    {
     "data": {
      "text/html": [
       "<div>\n",
       "<style scoped>\n",
       "    .dataframe tbody tr th:only-of-type {\n",
       "        vertical-align: middle;\n",
       "    }\n",
       "\n",
       "    .dataframe tbody tr th {\n",
       "        vertical-align: top;\n",
       "    }\n",
       "\n",
       "    .dataframe thead th {\n",
       "        text-align: right;\n",
       "    }\n",
       "</style>\n",
       "<table border=\"1\" class=\"dataframe\">\n",
       "  <thead>\n",
       "    <tr style=\"text-align: right;\">\n",
       "      <th></th>\n",
       "      <th>pelvic_incidence</th>\n",
       "      <th>pelvic_tilt</th>\n",
       "      <th>lumbar_lordosis_angle</th>\n",
       "      <th>sacral_slope</th>\n",
       "      <th>pelvic_radius</th>\n",
       "      <th>degree_spondylolisthesis</th>\n",
       "      <th>class</th>\n",
       "    </tr>\n",
       "  </thead>\n",
       "  <tbody>\n",
       "    <tr>\n",
       "      <th>0</th>\n",
       "      <td>63.027817</td>\n",
       "      <td>22.552586</td>\n",
       "      <td>39.609117</td>\n",
       "      <td>40.475232</td>\n",
       "      <td>98.672917</td>\n",
       "      <td>-0.254400</td>\n",
       "      <td>Abnormal</td>\n",
       "    </tr>\n",
       "    <tr>\n",
       "      <th>1</th>\n",
       "      <td>39.056951</td>\n",
       "      <td>10.060991</td>\n",
       "      <td>25.015378</td>\n",
       "      <td>28.995960</td>\n",
       "      <td>114.405425</td>\n",
       "      <td>4.564259</td>\n",
       "      <td>Abnormal</td>\n",
       "    </tr>\n",
       "    <tr>\n",
       "      <th>2</th>\n",
       "      <td>68.832021</td>\n",
       "      <td>22.218482</td>\n",
       "      <td>50.092194</td>\n",
       "      <td>46.613539</td>\n",
       "      <td>105.985135</td>\n",
       "      <td>-3.530317</td>\n",
       "      <td>Abnormal</td>\n",
       "    </tr>\n",
       "    <tr>\n",
       "      <th>3</th>\n",
       "      <td>69.297008</td>\n",
       "      <td>24.652878</td>\n",
       "      <td>44.311238</td>\n",
       "      <td>44.644130</td>\n",
       "      <td>101.868495</td>\n",
       "      <td>11.211523</td>\n",
       "      <td>Abnormal</td>\n",
       "    </tr>\n",
       "    <tr>\n",
       "      <th>4</th>\n",
       "      <td>49.712859</td>\n",
       "      <td>9.652075</td>\n",
       "      <td>28.317406</td>\n",
       "      <td>40.060784</td>\n",
       "      <td>108.168725</td>\n",
       "      <td>7.918501</td>\n",
       "      <td>Abnormal</td>\n",
       "    </tr>\n",
       "  </tbody>\n",
       "</table>\n",
       "</div>"
      ],
      "text/plain": [
       "   pelvic_incidence  pelvic_tilt  lumbar_lordosis_angle  sacral_slope  \\\n",
       "0         63.027817    22.552586              39.609117     40.475232   \n",
       "1         39.056951    10.060991              25.015378     28.995960   \n",
       "2         68.832021    22.218482              50.092194     46.613539   \n",
       "3         69.297008    24.652878              44.311238     44.644130   \n",
       "4         49.712859     9.652075              28.317406     40.060784   \n",
       "\n",
       "   pelvic_radius  degree_spondylolisthesis     class  \n",
       "0      98.672917                 -0.254400  Abnormal  \n",
       "1     114.405425                  4.564259  Abnormal  \n",
       "2     105.985135                 -3.530317  Abnormal  \n",
       "3     101.868495                 11.211523  Abnormal  \n",
       "4     108.168725                  7.918501  Abnormal  "
      ]
     },
     "execution_count": 27,
     "metadata": {},
     "output_type": "execute_result"
    }
   ],
   "source": [
    "df_vertebral.head()"
   ]
  },
  {
   "cell_type": "markdown",
   "id": "3f96e3bb",
   "metadata": {},
   "source": [
    "Separar Variáveis Independentes (Features) e Variável Alvo (Target)"
   ]
  },
  {
   "cell_type": "code",
   "execution_count": 5,
   "id": "1a007c22",
   "metadata": {},
   "outputs": [
    {
     "name": "stdout",
     "output_type": "stream",
     "text": [
      "Features (X):\n",
      "   pelvic_incidence  pelvic_tilt  lumbar_lordosis_angle  sacral_slope  \\\n",
      "0         63.027817    22.552586              39.609117     40.475232   \n",
      "1         39.056951    10.060991              25.015378     28.995960   \n",
      "2         68.832021    22.218482              50.092194     46.613539   \n",
      "3         69.297008    24.652878              44.311238     44.644130   \n",
      "4         49.712859     9.652075              28.317406     40.060784   \n",
      "\n",
      "   pelvic_radius  degree_spondylolisthesis  \n",
      "0      98.672917                 -0.254400  \n",
      "1     114.405425                  4.564259  \n",
      "2     105.985135                 -3.530317  \n",
      "3     101.868495                 11.211523  \n",
      "4     108.168725                  7.918501  \n",
      "\n",
      "Target (y):\n",
      "0    Abnormal\n",
      "1    Abnormal\n",
      "2    Abnormal\n",
      "3    Abnormal\n",
      "4    Abnormal\n",
      "Name: class, dtype: object\n"
     ]
    }
   ],
   "source": [
    "# 'X' conterá as features (todas as colunas, exceto a última)\n",
    "X = df_vertebral.iloc[:, :-1]\n",
    "\n",
    "# 'y' conterá a variável alvo (a última coluna, 'class')\n",
    "y = df_vertebral.iloc[:, -1]\n",
    "\n",
    "print(\"Features (X):\")\n",
    "print(X.head())\n",
    "print(\"\\nTarget (y):\")\n",
    "print(y.head())"
   ]
  },
  {
   "cell_type": "markdown",
   "id": "33be5686",
   "metadata": {},
   "source": [
    "Label Encoding - Condificando a variável alvo, pois ml não trabalha com texto e sim 0 ou 1. "
   ]
  },
  {
   "cell_type": "code",
   "execution_count": 10,
   "id": "9e6ac6c4",
   "metadata": {},
   "outputs": [],
   "source": [
    "# Aplicando a codificacão na variável y\n",
    "le = LabelEncoder()\n",
    "y_encoded = le.fit_transform(y)"
   ]
  },
  {
   "cell_type": "code",
   "execution_count": 11,
   "id": "2aca714b",
   "metadata": {},
   "outputs": [
    {
     "name": "stdout",
     "output_type": "stream",
     "text": [
      "Classes originais: ['Abnormal' 'Normal']\n",
      "Primeiros 5 valores de y antes da codificação: ['Abnormal' 'Abnormal' 'Abnormal' 'Abnormal' 'Abnormal']\n",
      "Primeiros 5 valores de y após a codificação: [0 0 0 0 0]\n"
     ]
    }
   ],
   "source": [
    "# O LabelEncoder geralmente ordena alfabeticamente, então 'Abnormal' se torna 0 e 'Normal' se torna 1.\n",
    "print(f\"Classes originais: {le.classes_}\")\n",
    "print(f\"Primeiros 5 valores de y antes da codificação: {y.head().values}\")\n",
    "print(f\"Primeiros 5 valores de y após a codificação: {y_encoded[:5]}\")"
   ]
  },
  {
   "cell_type": "markdown",
   "id": "f8041245",
   "metadata": {},
   "source": [
    "Dividir os Dados em Conjuntos de Treino e Teste"
   ]
  },
  {
   "cell_type": "code",
   "execution_count": 14,
   "id": "8279a512",
   "metadata": {},
   "outputs": [
    {
     "name": "stdout",
     "output_type": "stream",
     "text": [
      "Tamanho do conjunto de treino: 248 amostras\n",
      "Tamanho do conjunto de teste: 62 amostras\n"
     ]
    }
   ],
   "source": [
    "X_train, X_test, y_train, y_test = train_test_split(X, y_encoded, test_size=0.2, random_state=42, stratify=y_encoded)\n",
    "\n",
    "print(f\"Tamanho do conjunto de treino: {X_train.shape[0]} amostras\")\n",
    "print(f\"Tamanho do conjunto de teste: {X_test.shape[0]} amostras\")"
   ]
  },
  {
   "cell_type": "markdown",
   "id": "508095c2",
   "metadata": {},
   "source": [
    "Feature Scaling - Padronização dos dados: Temos que tomar cuidado com a sensibildiade a escalas muito diferentes de features. "
   ]
  },
  {
   "cell_type": "code",
   "execution_count": null,
   "id": "0db8e8c5",
   "metadata": {},
   "outputs": [
    {
     "name": "stdout",
     "output_type": "stream",
     "text": [
      "Dados de treino padronizados (primeiras 5 linhas):\n",
      "   pelvic_incidence  pelvic_tilt  lumbar_lordosis_angle  sacral_slope  \\\n",
      "0          0.751299     0.358793               0.265541      0.704144   \n",
      "1          0.730159    -0.797490               0.565371      1.514558   \n",
      "2          1.656737     0.512492               2.035762      1.754627   \n",
      "3          1.098472     3.089342               0.000090     -0.828224   \n",
      "4          0.668654    -0.019898              -0.021432      0.872397   \n",
      "\n",
      "   pelvic_radius  degree_spondylolisthesis  \n",
      "0       0.212944                  1.215560  \n",
      "1      -1.383068                  0.009995  \n",
      "2      -1.251299                 -0.596465  \n",
      "3      -0.492699                  1.042556  \n",
      "4       0.137725                  0.140048  \n"
     ]
    }
   ],
   "source": [
    "# Cria o scaler\n",
    "scaler = StandardScaler()\n",
    "\n",
    "# Ajusta e transforma os dados de treino\n",
    "X_train_scaled = scaler.fit_transform(X_train)\n",
    "\n",
    "# Apenas transforma os dados de teste (usando o ajuste feito com os dados de treino)\n",
    "X_test_scaled = scaler.transform(X_test)\n",
    "\n",
    "# Convertendo de volta para DataFrame para visualização (opcional)\n",
    "X_train_scaled = pd.DataFrame(X_train_scaled, columns=X.columns)\n",
    "X_test_scaled = pd.DataFrame(X_test_scaled, columns=X.columns)\n",
    "\n",
    "print(\"Dados de treino padronizados (primeiras 5 linhas):\")\n",
    "print(X_train_scaled.head())"
   ]
  },
  {
   "cell_type": "markdown",
   "id": "2316f54e",
   "metadata": {},
   "source": [
    "Modelo 1: Naive Bayes (Gaussiano)"
   ]
  },
  {
   "cell_type": "code",
   "execution_count": 18,
   "id": "7e248bc9",
   "metadata": {},
   "outputs": [],
   "source": [
    "# 1. Instanciar e treinar o modelo\n",
    "gnb = GaussianNB()\n",
    "gnb.fit(X_train_scaled, y_train)\n",
    "\n",
    "# 2. Fazer previsões no conjunto de teste\n",
    "y_pred_gnb = gnb.predict(X_test_scaled)"
   ]
  },
  {
   "cell_type": "markdown",
   "id": "8d647c6e",
   "metadata": {},
   "source": [
    "Modelo 2: Classificador Bayesiano \"Puro\" (Análise Discriminante Quadrática - QDA)"
   ]
  },
  {
   "cell_type": "code",
   "execution_count": 19,
   "id": "0f324198",
   "metadata": {},
   "outputs": [
    {
     "name": "stderr",
     "output_type": "stream",
     "text": [
      "/Users/geangobo/Projetos/Introduction-to-Data-Science-USP/.venv/lib/python3.9/site-packages/sklearn/discriminant_analysis.py:1024: LinAlgWarning: The covariance matrix of class 0 is not full rank. Increasing the value of parameter `reg_param` might help reducing the collinearity.\n",
      "  warnings.warn(\n",
      "/Users/geangobo/Projetos/Introduction-to-Data-Science-USP/.venv/lib/python3.9/site-packages/sklearn/discriminant_analysis.py:1024: LinAlgWarning: The covariance matrix of class 1 is not full rank. Increasing the value of parameter `reg_param` might help reducing the collinearity.\n",
      "  warnings.warn(\n"
     ]
    }
   ],
   "source": [
    "# 1. Instanciar e treinar o modelo\n",
    "qda = QuadraticDiscriminantAnalysis()\n",
    "qda.fit(X_train_scaled, y_train)\n",
    "\n",
    "# 2. Fazer previsões no conjunto de teste\n",
    "y_pred_qda = qda.predict(X_test_scaled)"
   ]
  },
  {
   "cell_type": "markdown",
   "id": "f4e0ce44",
   "metadata": {},
   "source": [
    "Modelo 3: Classificador Bayesiano Não-Paramétrico (com Kernel Density Estimation)"
   ]
  },
  {
   "cell_type": "code",
   "execution_count": 20,
   "id": "ca438995",
   "metadata": {},
   "outputs": [],
   "source": [
    "# Classe personalizada para o classificador não-paramétrico\n",
    "class KDEClassifier:\n",
    "    def __init__(self, bandwidth=1.0, kernel='gaussian'):\n",
    "        self.bandwidth = bandwidth\n",
    "        self.kernel = kernel\n",
    "        self.models = {}\n",
    "        self.priors = {}\n",
    "\n",
    "    def fit(self, X, y):\n",
    "        self.classes = np.unique(y)\n",
    "        for c in self.classes:\n",
    "            # Treina um modelo KDE para cada classe\n",
    "            X_c = X[y == c]\n",
    "            self.models[c] = KernelDensity(bandwidth=self.bandwidth, kernel=self.kernel).fit(X_c)\n",
    "            # Calcula a probabilidade a priori de cada classe\n",
    "            self.priors[c] = len(X_c) / len(X)\n",
    "        return self\n",
    "\n",
    "    def predict(self, X):\n",
    "        # Calcula a verossimilhança (likelihood) de cada ponto para cada classe\n",
    "        log_likelihoods = np.array([model.score_samples(X) for _, model in self.models.items()]).T\n",
    "        # Aplica a regra de Bayes (em escala logarítmica)\n",
    "        log_posteriors = log_likelihoods + np.log(list(self.priors.values()))\n",
    "        # A classe com a maior probabilidade a posteriori é a predição\n",
    "        return self.classes[np.argmax(log_posteriors, axis=1)]\n",
    "\n",
    "# 1. Instanciar e treinar o modelo não-paramétrico\n",
    "kde_clf = KDEClassifier(bandwidth=0.5) # O bandwidth é um hiperparâmetro que pode ser ajustado\n",
    "kde_clf.fit(X_train_scaled, y_train)\n",
    "\n",
    "# 2. Fazer previsões no conjunto de teste\n",
    "y_pred_kde = kde_clf.predict(X_test_scaled)"
   ]
  },
  {
   "cell_type": "markdown",
   "id": "d1f0af1c",
   "metadata": {},
   "source": [
    "Avaliacão e comparação dos modelos da questão 1. "
   ]
  },
  {
   "cell_type": "code",
   "execution_count": 22,
   "id": "b80514e9",
   "metadata": {},
   "outputs": [
    {
     "name": "stdout",
     "output_type": "stream",
     "text": [
      "\n",
      "--- Classificador Naive Bayes (Gaussiano) ---\n",
      "Acurácia: 0.8065\n",
      "              precision    recall  f1-score   support\n",
      "\n",
      "    Abnormal       0.97      0.74      0.84        42\n",
      "      Normal       0.63      0.95      0.76        20\n",
      "\n",
      "    accuracy                           0.81        62\n",
      "   macro avg       0.80      0.84      0.80        62\n",
      "weighted avg       0.86      0.81      0.81        62\n",
      "\n",
      "\n",
      "--- Classificador Bayesiano (QDA) ---\n",
      "Acurácia: 0.8548\n",
      "              precision    recall  f1-score   support\n",
      "\n",
      "    Abnormal       1.00      0.79      0.88        42\n",
      "      Normal       0.69      1.00      0.82        20\n",
      "\n",
      "    accuracy                           0.85        62\n",
      "   macro avg       0.84      0.89      0.85        62\n",
      "weighted avg       0.90      0.85      0.86        62\n",
      "\n",
      "\n",
      "--- Classificador Bayesiano Não-Paramétrico (KDE) ---\n",
      "Acurácia: 0.8387\n",
      "              precision    recall  f1-score   support\n",
      "\n",
      "    Abnormal       0.92      0.83      0.88        42\n",
      "      Normal       0.71      0.85      0.77        20\n",
      "\n",
      "    accuracy                           0.84        62\n",
      "   macro avg       0.81      0.84      0.82        62\n",
      "weighted avg       0.85      0.84      0.84        62\n",
      "\n"
     ]
    }
   ],
   "source": [
    "target_names = ['Abnormal', 'Normal']\n",
    "\n",
    "#  Resultados para Naive Bayes\n",
    "print(\"\\n--- Classificador Naive Bayes (Gaussiano) ---\")\n",
    "print(f\"Acurácia: {accuracy_score(y_test, y_pred_gnb):.4f}\")\n",
    "print(classification_report(y_test, y_pred_gnb, target_names=target_names))\n",
    "\n",
    "# Resultados para QDA\n",
    "print(\"\\n--- Classificador Bayesiano (QDA) ---\")\n",
    "print(f\"Acurácia: {accuracy_score(y_test, y_pred_qda):.4f}\")\n",
    "print(classification_report(y_test, y_pred_qda, target_names=target_names))\n",
    "\n",
    "# Resultados para Não-Paramétrico (KDE)\n",
    "print(\"\\n--- Classificador Bayesiano Não-Paramétrico (KDE) ---\")\n",
    "print(f\"Acurácia: {accuracy_score(y_test, y_pred_kde):.4f}\")\n",
    "print(classification_report(y_test, y_pred_kde, target_names=target_names))"
   ]
  },
  {
   "cell_type": "code",
   "execution_count": 23,
   "id": "7c0fa689",
   "metadata": {},
   "outputs": [
    {
     "data": {
      "image/png": "[encoded data removed]",
      "text/plain": [
       "<Figure size 1200x700 with 1 Axes>"
      ]
     },
     "metadata": {},
     "output_type": "display_data"
    }
   ],
   "source": [
    "# 1. Calcular as acurácias\n",
    "acc_gnb = accuracy_score(y_test, y_pred_gnb)\n",
    "acc_qda = accuracy_score(y_test, y_pred_qda)\n",
    "acc_kde = accuracy_score(y_test, y_pred_kde)\n",
    "\n",
    "# 2. Preparar os dados para o gráfico\n",
    "nomes_classificadores = ['Naive Bayes (Gaussiano)', 'Bayesiano (QDA)', 'Não-Paramétrico (KDE)']\n",
    "acuracias = [acc_gnb, acc_qda, acc_kde]\n",
    "\n",
    "# 3. Criar o gráfico\n",
    "plt.style.use('seaborn-v0_8-talk')\n",
    "plt.figure(figsize=(12, 7))\n",
    "\n",
    "bars = plt.bar(nomes_classificadores, acuracias, color=['skyblue', 'salmon', 'lightgreen'])\n",
    "\n",
    "# Adicionar o valor exato em cima de cada barra\n",
    "for bar in bars:\n",
    "    yval = bar.get_height()\n",
    "    plt.text(bar.get_x() + bar.get_width()/2.0, yval, f'{yval:.4f}', va='bottom', ha='center') # va: vertical alignment\n",
    "\n",
    "# Customizar o gráfico\n",
    "plt.title('Comparativo de Desempenho dos Classificadores', fontsize=16, pad=20)\n",
    "plt.ylabel('Acurácia', fontsize=12)\n",
    "plt.xlabel('Classificador', fontsize=12)\n",
    "plt.ylim(0.75, 0.9) # Ajusta o limite do eixo Y para destacar a diferença\n",
    "plt.tight_layout()\n",
    "plt.show()"
   ]
  },
  {
   "cell_type": "markdown",
   "id": "8d33430b",
   "metadata": {},
   "source": [
    "### 2. Considerando a base de dados “winequality-red”, encontre o valor do hiperparâmetro h que oferece a maior acurácia no Bayesino não-paramétrico.\n"
   ]
  },
  {
   "cell_type": "code",
   "execution_count": 29,
   "id": "bb46d4fd",
   "metadata": {},
   "outputs": [
    {
     "data": {
      "text/html": [
       "<div>\n",
       "<style scoped>\n",
       "    .dataframe tbody tr th:only-of-type {\n",
       "        vertical-align: middle;\n",
       "    }\n",
       "\n",
       "    .dataframe tbody tr th {\n",
       "        vertical-align: top;\n",
       "    }\n",
       "\n",
       "    .dataframe thead th {\n",
       "        text-align: right;\n",
       "    }\n",
       "</style>\n",
       "<table border=\"1\" class=\"dataframe\">\n",
       "  <thead>\n",
       "    <tr style=\"text-align: right;\">\n",
       "      <th></th>\n",
       "      <th>fixed acidity</th>\n",
       "      <th>volatile acidity</th>\n",
       "      <th>citric acid</th>\n",
       "      <th>residual sugar</th>\n",
       "      <th>chlorides</th>\n",
       "      <th>free sulfur dioxide</th>\n",
       "      <th>total sulfur dioxide</th>\n",
       "      <th>density</th>\n",
       "      <th>pH</th>\n",
       "      <th>sulphates</th>\n",
       "      <th>alcohol</th>\n",
       "      <th>quality</th>\n",
       "    </tr>\n",
       "  </thead>\n",
       "  <tbody>\n",
       "    <tr>\n",
       "      <th>0</th>\n",
       "      <td>7.4</td>\n",
       "      <td>0.70</td>\n",
       "      <td>0.00</td>\n",
       "      <td>1.9</td>\n",
       "      <td>0.076</td>\n",
       "      <td>11.0</td>\n",
       "      <td>34.0</td>\n",
       "      <td>0.9978</td>\n",
       "      <td>3.51</td>\n",
       "      <td>0.56</td>\n",
       "      <td>9.4</td>\n",
       "      <td>5</td>\n",
       "    </tr>\n",
       "    <tr>\n",
       "      <th>1</th>\n",
       "      <td>7.8</td>\n",
       "      <td>0.88</td>\n",
       "      <td>0.00</td>\n",
       "      <td>2.6</td>\n",
       "      <td>0.098</td>\n",
       "      <td>25.0</td>\n",
       "      <td>67.0</td>\n",
       "      <td>0.9968</td>\n",
       "      <td>3.20</td>\n",
       "      <td>0.68</td>\n",
       "      <td>9.8</td>\n",
       "      <td>5</td>\n",
       "    </tr>\n",
       "    <tr>\n",
       "      <th>2</th>\n",
       "      <td>7.8</td>\n",
       "      <td>0.76</td>\n",
       "      <td>0.04</td>\n",
       "      <td>2.3</td>\n",
       "      <td>0.092</td>\n",
       "      <td>15.0</td>\n",
       "      <td>54.0</td>\n",
       "      <td>0.9970</td>\n",
       "      <td>3.26</td>\n",
       "      <td>0.65</td>\n",
       "      <td>9.8</td>\n",
       "      <td>5</td>\n",
       "    </tr>\n",
       "    <tr>\n",
       "      <th>3</th>\n",
       "      <td>11.2</td>\n",
       "      <td>0.28</td>\n",
       "      <td>0.56</td>\n",
       "      <td>1.9</td>\n",
       "      <td>0.075</td>\n",
       "      <td>17.0</td>\n",
       "      <td>60.0</td>\n",
       "      <td>0.9980</td>\n",
       "      <td>3.16</td>\n",
       "      <td>0.58</td>\n",
       "      <td>9.8</td>\n",
       "      <td>6</td>\n",
       "    </tr>\n",
       "    <tr>\n",
       "      <th>4</th>\n",
       "      <td>7.4</td>\n",
       "      <td>0.70</td>\n",
       "      <td>0.00</td>\n",
       "      <td>1.9</td>\n",
       "      <td>0.076</td>\n",
       "      <td>11.0</td>\n",
       "      <td>34.0</td>\n",
       "      <td>0.9978</td>\n",
       "      <td>3.51</td>\n",
       "      <td>0.56</td>\n",
       "      <td>9.4</td>\n",
       "      <td>5</td>\n",
       "    </tr>\n",
       "  </tbody>\n",
       "</table>\n",
       "</div>"
      ],
      "text/plain": [
       "   fixed acidity  volatile acidity  citric acid  residual sugar  chlorides  \\\n",
       "0            7.4              0.70         0.00             1.9      0.076   \n",
       "1            7.8              0.88         0.00             2.6      0.098   \n",
       "2            7.8              0.76         0.04             2.3      0.092   \n",
       "3           11.2              0.28         0.56             1.9      0.075   \n",
       "4            7.4              0.70         0.00             1.9      0.076   \n",
       "\n",
       "   free sulfur dioxide  total sulfur dioxide  density    pH  sulphates  \\\n",
       "0                 11.0                  34.0   0.9978  3.51       0.56   \n",
       "1                 25.0                  67.0   0.9968  3.20       0.68   \n",
       "2                 15.0                  54.0   0.9970  3.26       0.65   \n",
       "3                 17.0                  60.0   0.9980  3.16       0.58   \n",
       "4                 11.0                  34.0   0.9978  3.51       0.56   \n",
       "\n",
       "   alcohol  quality  \n",
       "0      9.4        5  \n",
       "1      9.8        5  \n",
       "2      9.8        5  \n",
       "3      9.8        6  \n",
       "4      9.4        5  "
      ]
     },
     "execution_count": 29,
     "metadata": {},
     "output_type": "execute_result"
    }
   ],
   "source": [
    "df_red.head()"
   ]
  },
  {
   "cell_type": "markdown",
   "id": "481f2252",
   "metadata": {},
   "source": []
  },
  {
   "cell_type": "code",
   "execution_count": null,
   "id": "75eb07f9",
   "metadata": {},
   "outputs": [],
   "source": [
    "\n"
   ]
  }
 ],
 "metadata": {
  "kernelspec": {
   "display_name": ".venv",
   "language": "python",
   "name": "python3"
  },
  "language_info": {
   "codemirror_mode": {
    "name": "ipython",
    "version": 3
   },
   "file_extension": ".py",
   "mimetype": "text/x-python",
   "name": "python",
   "nbconvert_exporter": "python",
   "pygments_lexer": "ipython3",
   "version": "3.9.6"
  }
 },
 "nbformat": 4,
 "nbformat_minor": 5
}
