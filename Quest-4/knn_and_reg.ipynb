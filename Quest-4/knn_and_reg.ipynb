{
 "cells": [
  {
   "cell_type": "markdown",
   "id": "e3027ac4",
   "metadata": {},
   "source": [
    "## Introdução à Ciência de Dados - Universidade de São Paulo"
   ]
  },
  {
   "cell_type": "markdown",
   "id": "f38a39d6",
   "metadata": {},
   "source": [
    "# Questionário 4 - Regressão logística e KNN"
   ]
  },
  {
   "cell_type": "markdown",
   "id": "1c719eeb",
   "metadata": {
    "vscode": {
     "languageId": "plaintext"
    }
   },
   "source": [
    "##### Prof. Francisco Rodrigues - Aluno: Gean Gobo da Cruz - N° USP: 13661979\n"
   ]
  },
  {
   "cell_type": "markdown",
   "id": "3e2981fc",
   "metadata": {},
   "source": [
    "### Pacotes"
   ]
  },
  {
   "cell_type": "code",
   "execution_count": 14,
   "id": "431f40a7",
   "metadata": {},
   "outputs": [],
   "source": [
    "from sklearn.model_selection import train_test_split\n",
    "from sklearn.preprocessing import StandardScaler\n",
    "from sklearn.neighbors import KNeighborsClassifier\n",
    "from sklearn.metrics import accuracy_score, classification_report\n",
    "import random\n",
    "import pandas as pd\n",
    "import numpy as np\n",
    "import matplotlib.pyplot as plt\n",
    "random.seed(42)\n"
   ]
  },
  {
   "cell_type": "markdown",
   "id": "8b2986b3",
   "metadata": {},
   "source": [
    "### Dataset"
   ]
  },
  {
   "cell_type": "code",
   "execution_count": 2,
   "id": "d1e67c86",
   "metadata": {},
   "outputs": [],
   "source": [
    "url = (\n",
    "\"https://raw.githubusercontent.com/rocksaint/fruit-data-with-colours/master/fruit_data_with_colours.csv\"\n",
    ")\n",
    "\n",
    "data = pd.read_csv(url)"
   ]
  },
  {
   "cell_type": "markdown",
   "id": "38f0f904",
   "metadata": {},
   "source": [
    "### 1 - Considere os dados obtidos a partir do código a seguir. Encontre o melhor valor de k e a métrica de distância no algoritmo knn. A classe a ser considerada está na primeira (fruit_label) ou segunda coluna (fruit_name). A que não for usada, precisa ser removida. Notem que os atributos nominais precisam ser convertidos em numéricos usando OneHotEncoder"
   ]
  },
  {
   "cell_type": "code",
   "execution_count": 3,
   "id": "48f412e3",
   "metadata": {},
   "outputs": [
    {
     "name": "stdout",
     "output_type": "stream",
     "text": [
      "Matriz de atributos: Número de linhas: 59  colunas:  7\n"
     ]
    },
    {
     "data": {
      "text/html": [
       "<div>\n",
       "<style scoped>\n",
       "    .dataframe tbody tr th:only-of-type {\n",
       "        vertical-align: middle;\n",
       "    }\n",
       "\n",
       "    .dataframe tbody tr th {\n",
       "        vertical-align: top;\n",
       "    }\n",
       "\n",
       "    .dataframe thead th {\n",
       "        text-align: right;\n",
       "    }\n",
       "</style>\n",
       "<table border=\"1\" class=\"dataframe\">\n",
       "  <thead>\n",
       "    <tr style=\"text-align: right;\">\n",
       "      <th></th>\n",
       "      <th>fruit_label</th>\n",
       "      <th>fruit_name</th>\n",
       "      <th>fruit_subtype</th>\n",
       "      <th>mass</th>\n",
       "      <th>width</th>\n",
       "      <th>height</th>\n",
       "      <th>color_score</th>\n",
       "    </tr>\n",
       "  </thead>\n",
       "  <tbody>\n",
       "    <tr>\n",
       "      <th>0</th>\n",
       "      <td>1</td>\n",
       "      <td>apple</td>\n",
       "      <td>granny_smith</td>\n",
       "      <td>192</td>\n",
       "      <td>8.4</td>\n",
       "      <td>7.3</td>\n",
       "      <td>0.55</td>\n",
       "    </tr>\n",
       "    <tr>\n",
       "      <th>1</th>\n",
       "      <td>1</td>\n",
       "      <td>apple</td>\n",
       "      <td>granny_smith</td>\n",
       "      <td>180</td>\n",
       "      <td>8.0</td>\n",
       "      <td>6.8</td>\n",
       "      <td>0.59</td>\n",
       "    </tr>\n",
       "    <tr>\n",
       "      <th>2</th>\n",
       "      <td>1</td>\n",
       "      <td>apple</td>\n",
       "      <td>granny_smith</td>\n",
       "      <td>176</td>\n",
       "      <td>7.4</td>\n",
       "      <td>7.2</td>\n",
       "      <td>0.60</td>\n",
       "    </tr>\n",
       "    <tr>\n",
       "      <th>3</th>\n",
       "      <td>2</td>\n",
       "      <td>mandarin</td>\n",
       "      <td>mandarin</td>\n",
       "      <td>86</td>\n",
       "      <td>6.2</td>\n",
       "      <td>4.7</td>\n",
       "      <td>0.80</td>\n",
       "    </tr>\n",
       "    <tr>\n",
       "      <th>4</th>\n",
       "      <td>2</td>\n",
       "      <td>mandarin</td>\n",
       "      <td>mandarin</td>\n",
       "      <td>84</td>\n",
       "      <td>6.0</td>\n",
       "      <td>4.6</td>\n",
       "      <td>0.79</td>\n",
       "    </tr>\n",
       "    <tr>\n",
       "      <th>5</th>\n",
       "      <td>2</td>\n",
       "      <td>mandarin</td>\n",
       "      <td>mandarin</td>\n",
       "      <td>80</td>\n",
       "      <td>5.8</td>\n",
       "      <td>4.3</td>\n",
       "      <td>0.77</td>\n",
       "    </tr>\n",
       "    <tr>\n",
       "      <th>6</th>\n",
       "      <td>2</td>\n",
       "      <td>mandarin</td>\n",
       "      <td>mandarin</td>\n",
       "      <td>80</td>\n",
       "      <td>5.9</td>\n",
       "      <td>4.3</td>\n",
       "      <td>0.81</td>\n",
       "    </tr>\n",
       "    <tr>\n",
       "      <th>7</th>\n",
       "      <td>2</td>\n",
       "      <td>mandarin</td>\n",
       "      <td>mandarin</td>\n",
       "      <td>76</td>\n",
       "      <td>5.8</td>\n",
       "      <td>4.0</td>\n",
       "      <td>0.81</td>\n",
       "    </tr>\n",
       "    <tr>\n",
       "      <th>8</th>\n",
       "      <td>1</td>\n",
       "      <td>apple</td>\n",
       "      <td>braeburn</td>\n",
       "      <td>178</td>\n",
       "      <td>7.1</td>\n",
       "      <td>7.8</td>\n",
       "      <td>0.92</td>\n",
       "    </tr>\n",
       "    <tr>\n",
       "      <th>9</th>\n",
       "      <td>1</td>\n",
       "      <td>apple</td>\n",
       "      <td>braeburn</td>\n",
       "      <td>172</td>\n",
       "      <td>7.4</td>\n",
       "      <td>7.0</td>\n",
       "      <td>0.89</td>\n",
       "    </tr>\n",
       "  </tbody>\n",
       "</table>\n",
       "</div>"
      ],
      "text/plain": [
       "   fruit_label fruit_name fruit_subtype  mass  width  height  color_score\n",
       "0            1      apple  granny_smith   192    8.4     7.3         0.55\n",
       "1            1      apple  granny_smith   180    8.0     6.8         0.59\n",
       "2            1      apple  granny_smith   176    7.4     7.2         0.60\n",
       "3            2   mandarin      mandarin    86    6.2     4.7         0.80\n",
       "4            2   mandarin      mandarin    84    6.0     4.6         0.79\n",
       "5            2   mandarin      mandarin    80    5.8     4.3         0.77\n",
       "6            2   mandarin      mandarin    80    5.9     4.3         0.81\n",
       "7            2   mandarin      mandarin    76    5.8     4.0         0.81\n",
       "8            1      apple      braeburn   178    7.1     7.8         0.92\n",
       "9            1      apple      braeburn   172    7.4     7.0         0.89"
      ]
     },
     "execution_count": 3,
     "metadata": {},
     "output_type": "execute_result"
    }
   ],
   "source": [
    "nrow, ncol = data.shape\n",
    "print(\"Matriz de atributos: Número de linhas:\", nrow, \" colunas: \", ncol)\n",
    "attributes = list(data.columns)\n",
    "data.head(10)"
   ]
  },
  {
   "cell_type": "markdown",
   "id": "ef94d379",
   "metadata": {},
   "source": [
    "#### Seleção de Features: Dado `fruit_label` já ser numérica, escolheremos como alvo y (excluindo `fruit_name`)"
   ]
  },
  {
   "cell_type": "code",
   "execution_count": 4,
   "id": "9b6a45c9",
   "metadata": {},
   "outputs": [
    {
     "name": "stdout",
     "output_type": "stream",
     "text": [
      "Features iniciais (X):\n",
      "  fruit_subtype  mass  width  height  color_score\n",
      "0  granny_smith   192    8.4     7.3         0.55\n",
      "1  granny_smith   180    8.0     6.8         0.59\n",
      "2  granny_smith   176    7.4     7.2         0.60\n",
      "3      mandarin    86    6.2     4.7         0.80\n",
      "4      mandarin    84    6.0     4.6         0.79\n"
     ]
    }
   ],
   "source": [
    "# Definindo o alvo (y) e as features (X)\n",
    "# Vamos usar 'fruit_label' como nosso alvo por já ser numérico.\n",
    "y = data['fruit_label']\n",
    "\n",
    "# As features (X) são todas as colunas, exceto as de identificação da fruta.\n",
    "X = data.drop(['fruit_label', 'fruit_name'], axis=1)\n",
    "\n",
    "print(\"Features iniciais (X):\")\n",
    "print(X.head())"
   ]
  },
  {
   "cell_type": "markdown",
   "id": "29b182ee",
   "metadata": {},
   "source": [
    "Note que ainda existe um atributo nominal, diante disso precisamos realizar a sua conversão pois o knn não funciona com nominais"
   ]
  },
  {
   "cell_type": "code",
   "execution_count": 5,
   "id": "129b9dcf",
   "metadata": {},
   "outputs": [
    {
     "name": "stdout",
     "output_type": "stream",
     "text": [
      "<class 'pandas.core.frame.DataFrame'>\n",
      "RangeIndex: 59 entries, 0 to 58\n",
      "Data columns (total 5 columns):\n",
      " #   Column         Non-Null Count  Dtype  \n",
      "---  ------         --------------  -----  \n",
      " 0   fruit_subtype  59 non-null     object \n",
      " 1   mass           59 non-null     int64  \n",
      " 2   width          59 non-null     float64\n",
      " 3   height         59 non-null     float64\n",
      " 4   color_score    59 non-null     float64\n",
      "dtypes: float64(3), int64(1), object(1)\n",
      "memory usage: 2.4+ KB\n"
     ]
    }
   ],
   "source": [
    "X.info()"
   ]
  },
  {
   "cell_type": "markdown",
   "id": "7c161029",
   "metadata": {},
   "source": [
    "### Conversão de Atributos Nominais (One-Hot Encoding)"
   ]
  },
  {
   "cell_type": "code",
   "execution_count": 6,
   "id": "61796247",
   "metadata": {},
   "outputs": [
    {
     "name": "stdout",
     "output_type": "stream",
     "text": [
      "\n",
      "Features após One-Hot Encoding:\n",
      "   mass  width  height  color_score  fruit_subtype_cripps_pink  \\\n",
      "0   192    8.4     7.3         0.55                      False   \n",
      "1   180    8.0     6.8         0.59                      False   \n",
      "2   176    7.4     7.2         0.60                      False   \n",
      "3    86    6.2     4.7         0.80                      False   \n",
      "4    84    6.0     4.6         0.79                      False   \n",
      "\n",
      "   fruit_subtype_golden_delicious  fruit_subtype_granny_smith  \\\n",
      "0                           False                        True   \n",
      "1                           False                        True   \n",
      "2                           False                        True   \n",
      "3                           False                       False   \n",
      "4                           False                       False   \n",
      "\n",
      "   fruit_subtype_mandarin  fruit_subtype_selected_seconds  \\\n",
      "0                   False                           False   \n",
      "1                   False                           False   \n",
      "2                   False                           False   \n",
      "3                    True                           False   \n",
      "4                    True                           False   \n",
      "\n",
      "   fruit_subtype_spanish_belsan  fruit_subtype_spanish_jumbo  \\\n",
      "0                         False                        False   \n",
      "1                         False                        False   \n",
      "2                         False                        False   \n",
      "3                         False                        False   \n",
      "4                         False                        False   \n",
      "\n",
      "   fruit_subtype_turkey_navel  fruit_subtype_unknown  \n",
      "0                       False                  False  \n",
      "1                       False                  False  \n",
      "2                       False                  False  \n",
      "3                       False                  False  \n",
      "4                       False                  False  \n"
     ]
    }
   ],
   "source": [
    "# Aplicando One-Hot Encoding na coluna 'fruit_subtype'\n",
    "X = pd.get_dummies(X, columns=['fruit_subtype'], drop_first=True)\n",
    "\n",
    "print(\"\\nFeatures após One-Hot Encoding:\")\n",
    "print(X.head())"
   ]
  },
  {
   "cell_type": "markdown",
   "id": "92feee04",
   "metadata": {},
   "source": [
    "### Divisão em Conjunto de Treino e Teste"
   ]
  },
  {
   "cell_type": "code",
   "execution_count": 7,
   "id": "8834050a",
   "metadata": {},
   "outputs": [
    {
     "name": "stdout",
     "output_type": "stream",
     "text": [
      "\n",
      "Tamanho do conjunto de treino: (47, 13)\n",
      "Tamanho do conjunto de teste: (12, 13)\n"
     ]
    }
   ],
   "source": [
    "X_train, X_test, y_train, y_test = train_test_split(\n",
    "    X, y, test_size=0.2, random_state=42\n",
    ")\n",
    "\n",
    "print(\"\\nTamanho do conjunto de treino:\", X_train.shape)\n",
    "print(\"Tamanho do conjunto de teste:\", X_test.shape)"
   ]
  },
  {
   "cell_type": "markdown",
   "id": "a1ef541d",
   "metadata": {},
   "source": [
    "### Normalização dos Dados"
   ]
  },
  {
   "cell_type": "code",
   "execution_count": 8,
   "id": "c6cc34c6",
   "metadata": {},
   "outputs": [],
   "source": [
    "scaler = StandardScaler()\n",
    "\n",
    "# Ajusta o scaler com os dados de TREINO e os transforma\n",
    "X_train_scaled = scaler.fit_transform(X_train)\n",
    "\n",
    "# Apenas transforma os dados de TESTE com o scaler já ajustado\n",
    "X_test_scaled = scaler.transform(X_test)"
   ]
  },
  {
   "cell_type": "markdown",
   "id": "31a8a77b",
   "metadata": {},
   "source": [
    "### Encontrando o Melhor k e a Melhor Métrica"
   ]
  },
  {
   "cell_type": "code",
   "execution_count": 9,
   "id": "fdea6a91",
   "metadata": {},
   "outputs": [
    {
     "name": "stdout",
     "output_type": "stream",
     "text": [
      "\n",
      "Exemplo de resultados (métrica, k, acurácia):\n",
      "('euclidean', 1, 1.0)\n",
      "('euclidean', 2, 1.0)\n",
      "('euclidean', 3, 1.0)\n",
      "('euclidean', 4, 1.0)\n",
      "('euclidean', 5, 1.0)\n"
     ]
    }
   ],
   "source": [
    "# Lista de métricas a serem testadas\n",
    "vm = ['euclidean', 'manhattan', 'chebyshev', 'minkowski']\n",
    "# Range de valores de k para testar\n",
    "k_range = range(1, 16) # Testa k de 1 a 15\n",
    "\n",
    "# Estrutura para guardar os resultados\n",
    "results = []\n",
    "\n",
    "# Loop pelas métricas\n",
    "for metric in vm:\n",
    "    # Loop pelos valores de k\n",
    "    for k in k_range:\n",
    "        # 1. Cria o modelo KNN com a métrica e o k da iteração atual\n",
    "        knn = KNeighborsClassifier(n_neighbors=k, metric=metric)\n",
    "        \n",
    "        # 2. Treina o modelo com os dados de treino normalizados\n",
    "        knn.fit(X_train_scaled, y_train)\n",
    "        \n",
    "        # 3. Faz predições nos dados de teste normalizados\n",
    "        y_pred = knn.predict(X_test_scaled)\n",
    "        \n",
    "        # 4. Calcula a acurácia\n",
    "        accuracy = accuracy_score(y_test, y_pred)\n",
    "        \n",
    "        # 5. Guarda o resultado\n",
    "        results.append((metric, k, accuracy))\n",
    "\n",
    "# Imprime alguns resultados para verificação\n",
    "print(\"\\nExemplo de resultados (métrica, k, acurácia):\")\n",
    "for i in range(5):\n",
    "    print(results[i])"
   ]
  },
  {
   "cell_type": "markdown",
   "id": "ffb718dc",
   "metadata": {},
   "source": [
    "### Análise dos resultados"
   ]
  },
  {
   "cell_type": "code",
   "execution_count": 10,
   "id": "6de28c82",
   "metadata": {},
   "outputs": [
    {
     "name": "stdout",
     "output_type": "stream",
     "text": [
      "\n",
      "--- MELHOR RESULTADO ---\n",
      "Métrica     euclidean\n",
      "k                   1\n",
      "Acurácia          1.0\n",
      "Name: 0, dtype: object\n"
     ]
    }
   ],
   "source": [
    "# Converte os resultados para um DataFrame do Pandas para facilitar a análise\n",
    "results_df = pd.DataFrame(results, columns=['Métrica', 'k', 'Acurácia'])\n",
    "\n",
    "# Encontra a linha com a maior acurácia\n",
    "best_result = results_df.loc[results_df['Acurácia'].idxmax()]\n",
    "\n",
    "print(\"\\n--- MELHOR RESULTADO ---\")\n",
    "print(best_result)"
   ]
  },
  {
   "cell_type": "code",
   "execution_count": 11,
   "id": "3dc53e0a",
   "metadata": {},
   "outputs": [
    {
     "data": {
      "image/png": "[encoded data removed]",
      "text/plain": [
       "<Figure size 1200x800 with 1 Axes>"
      ]
     },
     "metadata": {},
     "output_type": "display_data"
    }
   ],
   "source": [
    "plt.figure(figsize=(12, 8))\n",
    "\n",
    "for metric in vm:\n",
    "    # Filtra o DataFrame para a métrica atual\n",
    "    metric_df = results_df[results_df['Métrica'] == metric]\n",
    "    plt.plot(metric_df['k'], metric_df['Acurácia'], marker='o', linestyle='--', label=f'Métrica: {metric}')\n",
    "\n",
    "plt.title('Acurácia do KNN vs. Valor de k para Diferentes Métricas')\n",
    "plt.xlabel('Valor de k')\n",
    "plt.ylabel('Acurácia no Conjunto de Teste')\n",
    "plt.xticks(k_range)\n",
    "plt.legend()\n",
    "plt.grid(True)\n",
    "plt.show()"
   ]
  },
  {
   "cell_type": "markdown",
   "id": "68dc844d",
   "metadata": {},
   "source": [
    "Note o \"trade-off viés-variância\" atuando, existe uma queda da acurácia com aumento de `k`: \n",
    "- `k` pequeno (baixo viés, alta variância) --> Se adapta aos dados de treino (não aprende e sim cria uma fronteira de decisão complexa e irregular), poucas suposições e risco de overfitting.\n",
    "- `k` grande (alto viés, baixa variância) --> Modelo rígido, menos sensível, alto viés e underfitting. "
   ]
  },
  {
   "cell_type": "markdown",
   "id": "428d18f1",
   "metadata": {},
   "source": [
    "### 2. Faça a classificação usando regressão logística\n"
   ]
  },
  {
   "cell_type": "markdown",
   "id": "43abdcb6",
   "metadata": {},
   "source": [
    "Poderíamos definir a função sigmoide usando numpy para operações matemáticas, mas já existe um módulo pronto no Scikit-learn"
   ]
  },
  {
   "cell_type": "code",
   "execution_count": 12,
   "id": "3b98a63a",
   "metadata": {},
   "outputs": [],
   "source": [
    "from sklearn.linear_model import LogisticRegression"
   ]
  },
  {
   "cell_type": "markdown",
   "id": "28d61398",
   "metadata": {},
   "source": [
    "### Treinando o Modelo de Regressão Logística\n",
    "Dado que já fizemos a preparacão dos dados no último exercício, vamos treinar o modelo.\n",
    "\n",
    "obs: Diferente do KNN que apenas \"memoriza\" os dados, a Regressão Logística aprende os melhores coeficientes (pesos) para cada feature, de forma a criar uma fronteira de decisão linear que melhor separe as classes.\n"
   ]
  },
  {
   "cell_type": "code",
   "execution_count": 13,
   "id": "857ea05d",
   "metadata": {},
   "outputs": [
    {
     "name": "stdout",
     "output_type": "stream",
     "text": [
      "Treinando o modelo de Regressão Logística...\n",
      "Modelo treinado com sucesso!\n"
     ]
    }
   ],
   "source": [
    "log_reg = LogisticRegression(random_state=42) # random_state para reprodutibilidade\n",
    "\n",
    "print(\"Treinando o modelo de Regressão Logística...\")\n",
    "log_reg.fit(X_train_scaled, y_train)\n",
    "print(\"Modelo treinado com sucesso!\")"
   ]
  },
  {
   "cell_type": "markdown",
   "id": "3273e6eb",
   "metadata": {},
   "source": [
    "### Fazendo Previsões e Avaliando o Modelo"
   ]
  },
  {
   "cell_type": "code",
   "execution_count": 15,
   "id": "938e2f61",
   "metadata": {},
   "outputs": [
    {
     "name": "stdout",
     "output_type": "stream",
     "text": [
      "\n",
      "Acurácia da Regressão Logística: 1.0000\n",
      "\n",
      " Relatório de Classificação: \n",
      "              precision    recall  f1-score   support\n",
      "\n",
      "           1       1.00      1.00      1.00         3\n",
      "           2       1.00      1.00      1.00         2\n",
      "           3       1.00      1.00      1.00         2\n",
      "           4       1.00      1.00      1.00         5\n",
      "\n",
      "    accuracy                           1.00        12\n",
      "   macro avg       1.00      1.00      1.00        12\n",
      "weighted avg       1.00      1.00      1.00        12\n",
      "\n"
     ]
    }
   ],
   "source": [
    "# Fazer previsões nos dados de TESTE normalizados\n",
    "y_pred_log_reg = log_reg.predict(X_test_scaled)\n",
    "\n",
    "# Avaliar a performance do modelo\n",
    "\n",
    "# Calculando a acurácia\n",
    "accuracy = accuracy_score(y_test, y_pred_log_reg)\n",
    "print(f\"\\nAcurácia da Regressão Logística: {accuracy:.4f}\")\n",
    "\n",
    "print(f\"\\n Relatório de Classificação: \\n{classification_report(y_test, y_pred_log_reg)}\")"
   ]
  },
  {
   "cell_type": "markdown",
   "id": "d6f8227b",
   "metadata": {},
   "source": [
    "### Conclusão: \n",
    "- Note que o KNN (com um valor de k baixo) e a Reg. Log. se mostraram eficazes com 100% de acurácia no conjunto de teste; \n",
    "- Isso indica que as frutas desse dataset são linearmente separáveis, isto é, são tão distintas as caracteristicas das frutas que é possível traçar uma fronteira de decisão simples.  "
   ]
  }
 ],
 "metadata": {
  "kernelspec": {
   "display_name": ".venv",
   "language": "python",
   "name": "python3"
  },
  "language_info": {
   "codemirror_mode": {
    "name": "ipython",
    "version": 3
   },
   "file_extension": ".py",
   "mimetype": "text/x-python",
   "name": "python",
   "nbconvert_exporter": "python",
   "pygments_lexer": "ipython3",
   "version": "3.9.6"
  }
 },
 "nbformat": 4,
 "nbformat_minor": 5
}
