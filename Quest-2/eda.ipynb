{
 "cells": [
  {
   "cell_type": "markdown",
   "id": "9571d7d4",
   "metadata": {},
   "source": [
    "## Introdução à Ciência de Dados - Universidade de São Paulo"
   ]
  },
  {
   "cell_type": "markdown",
   "id": "ad9bf6c5",
   "metadata": {},
   "source": [
    "# Questionário 2 - Análise exploratória de dados"
   ]
  },
  {
   "cell_type": "markdown",
   "id": "c3b8774c",
   "metadata": {},
   "source": [
    "##### Prof. Francisco Rodrigues - Aluno: Gean Gobo da Cruz - N° USP: 13661979\n",
    "\n"
   ]
  },
  {
   "cell_type": "markdown",
   "id": "66ce3690",
   "metadata": {},
   "source": [
    "### Pacotes que necessitou de instalação: \n",
    "- pandas; (manipulação de dados)\n",
    "- lxml; (leitura do csv via html)\n"
   ]
  },
  {
   "cell_type": "markdown",
   "id": "771c4f63",
   "metadata": {},
   "source": [
    "##### Execute o comando abaixo para instalar os pacotes "
   ]
  },
  {
   "cell_type": "code",
   "execution_count": null,
   "id": "fc0dd7c0",
   "metadata": {},
   "outputs": [],
   "source": [
    "!pip install pandas lxml matplotlib "
   ]
  },
  {
   "cell_type": "markdown",
   "id": "dd77d091",
   "metadata": {},
   "source": [
    "### Pacotes"
   ]
  },
  {
   "cell_type": "code",
   "execution_count": 65,
   "id": "d2f20042",
   "metadata": {},
   "outputs": [],
   "source": [
    "import pandas as pd\n",
    "import numpy as np\n",
    "import matplotlib.pyplot as plt"
   ]
  },
  {
   "cell_type": "markdown",
   "id": "63faaae6",
   "metadata": {},
   "source": [
    "### 1. Leitura dos dados: "
   ]
  },
  {
   "cell_type": "code",
   "execution_count": 10,
   "id": "8924a363",
   "metadata": {},
   "outputs": [
    {
     "data": {
      "text/html": [
       "<div>\n",
       "<style scoped>\n",
       "    .dataframe tbody tr th:only-of-type {\n",
       "        vertical-align: middle;\n",
       "    }\n",
       "\n",
       "    .dataframe tbody tr th {\n",
       "        vertical-align: top;\n",
       "    }\n",
       "\n",
       "    .dataframe thead th {\n",
       "        text-align: right;\n",
       "    }\n",
       "</style>\n",
       "<table border=\"1\" class=\"dataframe\">\n",
       "  <thead>\n",
       "    <tr style=\"text-align: right;\">\n",
       "      <th></th>\n",
       "      <th>Unnamed: 0</th>\n",
       "      <th>Country</th>\n",
       "      <th>Continent</th>\n",
       "      <th>Year</th>\n",
       "      <th>Status</th>\n",
       "      <th>Life_expectancy</th>\n",
       "      <th>Adult_Mortality</th>\n",
       "      <th>infant_deaths</th>\n",
       "      <th>Alcohol</th>\n",
       "      <th>percentage_expenditure</th>\n",
       "      <th>...</th>\n",
       "      <th>Polio</th>\n",
       "      <th>Total_expenditure</th>\n",
       "      <th>Diphtheria</th>\n",
       "      <th>HIV/AIDS</th>\n",
       "      <th>GDP</th>\n",
       "      <th>Population</th>\n",
       "      <th>thinness 1-19 years</th>\n",
       "      <th>thinness 5-9 years</th>\n",
       "      <th>Income_composition_of_resources</th>\n",
       "      <th>Schooling</th>\n",
       "    </tr>\n",
       "  </thead>\n",
       "  <tbody>\n",
       "    <tr>\n",
       "      <th>0</th>\n",
       "      <td>NaN</td>\n",
       "      <td>Afghanistan</td>\n",
       "      <td>Asia</td>\n",
       "      <td>2015</td>\n",
       "      <td>Developing</td>\n",
       "      <td>65.0</td>\n",
       "      <td>263</td>\n",
       "      <td>62</td>\n",
       "      <td>0.01</td>\n",
       "      <td>71.279624</td>\n",
       "      <td>...</td>\n",
       "      <td>6.0</td>\n",
       "      <td>8.16</td>\n",
       "      <td>65</td>\n",
       "      <td>0.1</td>\n",
       "      <td>584.259210</td>\n",
       "      <td>33736494</td>\n",
       "      <td>17.2</td>\n",
       "      <td>17.3</td>\n",
       "      <td>0.479</td>\n",
       "      <td>10.1</td>\n",
       "    </tr>\n",
       "    <tr>\n",
       "      <th>1</th>\n",
       "      <td>NaN</td>\n",
       "      <td>Afghanistan</td>\n",
       "      <td>Asia</td>\n",
       "      <td>2014</td>\n",
       "      <td>Developing</td>\n",
       "      <td>59.9</td>\n",
       "      <td>271</td>\n",
       "      <td>64</td>\n",
       "      <td>0.01</td>\n",
       "      <td>73.523582</td>\n",
       "      <td>...</td>\n",
       "      <td>58.0</td>\n",
       "      <td>8.18</td>\n",
       "      <td>62</td>\n",
       "      <td>0.1</td>\n",
       "      <td>612.696514</td>\n",
       "      <td>327582</td>\n",
       "      <td>17.5</td>\n",
       "      <td>17.5</td>\n",
       "      <td>0.476</td>\n",
       "      <td>10.0</td>\n",
       "    </tr>\n",
       "    <tr>\n",
       "      <th>2</th>\n",
       "      <td>NaN</td>\n",
       "      <td>Afghanistan</td>\n",
       "      <td>Asia</td>\n",
       "      <td>2013</td>\n",
       "      <td>Developing</td>\n",
       "      <td>59.9</td>\n",
       "      <td>268</td>\n",
       "      <td>66</td>\n",
       "      <td>0.01</td>\n",
       "      <td>73.219243</td>\n",
       "      <td>...</td>\n",
       "      <td>62.0</td>\n",
       "      <td>8.13</td>\n",
       "      <td>64</td>\n",
       "      <td>0.1</td>\n",
       "      <td>631.744976</td>\n",
       "      <td>31731688</td>\n",
       "      <td>17.7</td>\n",
       "      <td>17.7</td>\n",
       "      <td>0.470</td>\n",
       "      <td>9.9</td>\n",
       "    </tr>\n",
       "    <tr>\n",
       "      <th>3</th>\n",
       "      <td>NaN</td>\n",
       "      <td>Afghanistan</td>\n",
       "      <td>Asia</td>\n",
       "      <td>2012</td>\n",
       "      <td>Developing</td>\n",
       "      <td>59.5</td>\n",
       "      <td>272</td>\n",
       "      <td>69</td>\n",
       "      <td>0.01</td>\n",
       "      <td>78.184215</td>\n",
       "      <td>...</td>\n",
       "      <td>67.0</td>\n",
       "      <td>8.52</td>\n",
       "      <td>67</td>\n",
       "      <td>0.1</td>\n",
       "      <td>669.959000</td>\n",
       "      <td>3696958</td>\n",
       "      <td>17.9</td>\n",
       "      <td>18.0</td>\n",
       "      <td>0.463</td>\n",
       "      <td>9.8</td>\n",
       "    </tr>\n",
       "    <tr>\n",
       "      <th>4</th>\n",
       "      <td>NaN</td>\n",
       "      <td>Afghanistan</td>\n",
       "      <td>Asia</td>\n",
       "      <td>2011</td>\n",
       "      <td>Developing</td>\n",
       "      <td>59.2</td>\n",
       "      <td>275</td>\n",
       "      <td>71</td>\n",
       "      <td>0.01</td>\n",
       "      <td>7.097109</td>\n",
       "      <td>...</td>\n",
       "      <td>68.0</td>\n",
       "      <td>7.87</td>\n",
       "      <td>68</td>\n",
       "      <td>0.1</td>\n",
       "      <td>63.537231</td>\n",
       "      <td>2978599</td>\n",
       "      <td>18.2</td>\n",
       "      <td>18.2</td>\n",
       "      <td>0.454</td>\n",
       "      <td>9.5</td>\n",
       "    </tr>\n",
       "  </tbody>\n",
       "</table>\n",
       "<p>5 rows × 24 columns</p>\n",
       "</div>"
      ],
      "text/plain": [
       "   Unnamed: 0      Country Continent  Year      Status  Life_expectancy  \\\n",
       "0         NaN  Afghanistan      Asia  2015  Developing             65.0   \n",
       "1         NaN  Afghanistan      Asia  2014  Developing             59.9   \n",
       "2         NaN  Afghanistan      Asia  2013  Developing             59.9   \n",
       "3         NaN  Afghanistan      Asia  2012  Developing             59.5   \n",
       "4         NaN  Afghanistan      Asia  2011  Developing             59.2   \n",
       "\n",
       "   Adult_Mortality  infant_deaths  Alcohol  percentage_expenditure  ...  \\\n",
       "0              263             62     0.01               71.279624  ...   \n",
       "1              271             64     0.01               73.523582  ...   \n",
       "2              268             66     0.01               73.219243  ...   \n",
       "3              272             69     0.01               78.184215  ...   \n",
       "4              275             71     0.01                7.097109  ...   \n",
       "\n",
       "   Polio  Total_expenditure  Diphtheria  HIV/AIDS         GDP  Population  \\\n",
       "0    6.0               8.16          65       0.1  584.259210    33736494   \n",
       "1   58.0               8.18          62       0.1  612.696514      327582   \n",
       "2   62.0               8.13          64       0.1  631.744976    31731688   \n",
       "3   67.0               8.52          67       0.1  669.959000     3696958   \n",
       "4   68.0               7.87          68       0.1   63.537231     2978599   \n",
       "\n",
       "  thinness 1-19 years  thinness 5-9 years  Income_composition_of_resources  \\\n",
       "0                17.2                17.3                            0.479   \n",
       "1                17.5                17.5                            0.476   \n",
       "2                17.7                17.7                            0.470   \n",
       "3                17.9                18.0                            0.463   \n",
       "4                18.2                18.2                            0.454   \n",
       "\n",
       "  Schooling  \n",
       "0      10.1  \n",
       "1      10.0  \n",
       "2       9.9  \n",
       "3       9.8  \n",
       "4       9.5  \n",
       "\n",
       "[5 rows x 24 columns]"
      ]
     },
     "execution_count": 10,
     "metadata": {},
     "output_type": "execute_result"
    }
   ],
   "source": [
    "url = \"https://gist.github.com/aishwarya8615/89d9f36fc014dea62487f7347864d16a\"\n",
    "df = pd.read_html(url)[0]\n",
    "df.head()"
   ]
  },
  {
   "cell_type": "code",
   "execution_count": 14,
   "id": "5c5d2f56",
   "metadata": {},
   "outputs": [
    {
     "data": {
      "text/plain": [
       "(2461, 24)"
      ]
     },
     "execution_count": 14,
     "metadata": {},
     "output_type": "execute_result"
    }
   ],
   "source": [
    "df.shape"
   ]
  },
  {
   "cell_type": "code",
   "execution_count": 17,
   "id": "fa2ef734",
   "metadata": {},
   "outputs": [
    {
     "data": {
      "text/plain": [
       "Index(['Unnamed: 0', 'Country', 'Continent', 'Year', 'Status',\n",
       "       'Life_expectancy', 'Adult_Mortality', 'infant_deaths', 'Alcohol',\n",
       "       'percentage_expenditure', 'Hepatitis_B', 'Measles', 'BMI',\n",
       "       'under_five_deaths', 'Polio', 'Total_expenditure', 'Diphtheria',\n",
       "       'HIV/AIDS', 'GDP', 'Population', 'thinness 1-19 years',\n",
       "       'thinness 5-9 years', 'Income_composition_of_resources', 'Schooling'],\n",
       "      dtype='object')"
      ]
     },
     "execution_count": 17,
     "metadata": {},
     "output_type": "execute_result"
    }
   ],
   "source": [
    "df.columns"
   ]
  },
  {
   "cell_type": "code",
   "execution_count": null,
   "id": "15e3391b",
   "metadata": {},
   "outputs": [],
   "source": []
  },
  {
   "cell_type": "markdown",
   "id": "38192dc7",
   "metadata": {},
   "source": [
    "#### Construa um gráfico de setores (pizza) para a variável Status. Qual a porcentagem de países desenvolvidos? Considere os dados de 2010 e 2015. Use o código a seguir para ler os dados:"
   ]
  },
  {
   "cell_type": "markdown",
   "id": "d1c7c14a",
   "metadata": {},
   "source": [
    "Qual é o intervalo de tempo dessa base de dados ? "
   ]
  },
  {
   "cell_type": "code",
   "execution_count": 57,
   "id": "600d8716",
   "metadata": {},
   "outputs": [
    {
     "data": {
      "text/plain": [
       "Year\n",
       "2004    155\n",
       "2005    155\n",
       "2006    155\n",
       "2007    155\n",
       "2008    154\n",
       "2009    154\n",
       "2010    154\n",
       "2011    154\n",
       "2003    154\n",
       "2002    154\n",
       "2001    154\n",
       "2013    153\n",
       "2014    153\n",
       "2000    153\n",
       "2015    152\n",
       "2012    152\n",
       "Name: count, dtype: int64"
      ]
     },
     "execution_count": 57,
     "metadata": {},
     "output_type": "execute_result"
    }
   ],
   "source": [
    "df[\"Year\"].value_counts()"
   ]
  },
  {
   "cell_type": "code",
   "execution_count": 58,
   "id": "7eeef4e5",
   "metadata": {},
   "outputs": [
    {
     "name": "stdout",
     "output_type": "stream",
     "text": [
      "18.30% dos países são desenvolvidos.\n"
     ]
    }
   ],
   "source": [
    "df_filtrado = df[df[\"Year\"].isin([2010, 2015])]\n",
    "perc_developed = list(df_filtrado[\"Status\"].value_counts())[1] / df_filtrado[\"Status\"].shape[0] * 100\n",
    "print(f\"{perc_developed:.2f}% dos países são desenvolvidos.\")"
   ]
  },
  {
   "cell_type": "code",
   "execution_count": 59,
   "id": "8a4e196b",
   "metadata": {},
   "outputs": [
    {
     "data": {
      "image/png": "[encoded data removed]",
      "text/plain": [
       "<Figure size 640x480 with 1 Axes>"
      ]
     },
     "metadata": {},
     "output_type": "display_data"
    }
   ],
   "source": [
    "df_filtrado[\"Status\"].value_counts().plot.pie(autopct=\"%.1f%%\", title=\"Porcentagem de países desenvolvidos (2010 e 2015)\");"
   ]
  },
  {
   "cell_type": "markdown",
   "id": "951354c0",
   "metadata": {},
   "source": [
    "### 2. Considerando a base anterior, construa um histograma para a variável Life_expectancy. Qual a média e variância desse atributo?"
   ]
  },
  {
   "cell_type": "code",
   "execution_count": 66,
   "id": "fce6ed74",
   "metadata": {},
   "outputs": [
    {
     "data": {
      "text/plain": [
       "Text(0, 0.5, 'Frequência (Número de Ocorrências)')"
      ]
     },
     "execution_count": 66,
     "metadata": {},
     "output_type": "execute_result"
    },
    {
     "data": {
      "image/png": "[encoded data removed]",
      "text/plain": [
       "<Figure size 640x480 with 1 Axes>"
      ]
     },
     "metadata": {},
     "output_type": "display_data"
    }
   ],
   "source": [
    "df[\"Life_expectancy\"].hist(bins=20, edgecolor='black', alpha=0.7)\n",
    "\n",
    "# 3. Adicionar o título e rótulos aos eixos usando Matplotlib\n",
    "plt.title(\"Histograma da Expectativa de Vida\")\n",
    "plt.xlabel(\"Expectativa de Vida (Anos)\")\n",
    "plt.ylabel(\"Frequência (Número de Ocorrências)\")"
   ]
  },
  {
   "cell_type": "code",
   "execution_count": 70,
   "id": "3b8b2420",
   "metadata": {},
   "outputs": [
    {
     "name": "stdout",
     "output_type": "stream",
     "text": [
      "Média da Expectativa de Vida: 69.46 anos\n",
      "Variância da Expectativa de Vida: 92.92 anos\n"
     ]
    }
   ],
   "source": [
    "mean_life_expectancy = df[\"Life_expectancy\"].mean()\n",
    "variance_life_expectancy = df[\"Life_expectancy\"].var()\n",
    "print(f\"Média da Expectativa de Vida: {mean_life_expectancy:.2f} anos\")\n",
    "print(f\"Variância da Expectativa de Vida: {variance_life_expectancy:.2f} anos\")"
   ]
  },
  {
   "cell_type": "code",
   "execution_count": null,
   "id": "2c6792b2",
   "metadata": {},
   "outputs": [],
   "source": []
  }
 ],
 "metadata": {
  "kernelspec": {
   "display_name": "Python 3",
   "language": "python",
   "name": "python3"
  },
  "language_info": {
   "codemirror_mode": {
    "name": "ipython",
    "version": 3
   },
   "file_extension": ".py",
   "mimetype": "text/x-python",
   "name": "python",
   "nbconvert_exporter": "python",
   "pygments_lexer": "ipython3",
   "version": "3.9.6"
  }
 },
 "nbformat": 4,
 "nbformat_minor": 5
}
